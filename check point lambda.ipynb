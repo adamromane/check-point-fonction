{
 "cells": [
  {
   "cell_type": "code",
   "execution_count": 1,
   "id": "87998122",
   "metadata": {},
   "outputs": [
    {
     "name": "stdout",
     "output_type": "stream",
     "text": [
      "35\n"
     ]
    }
   ],
   "source": [
    "#ex1\n",
    "adam=[20,35,19]\n",
    "print(max(adam))"
   ]
  },
  {
   "cell_type": "code",
   "execution_count": 11,
   "id": "c1a22b1f",
   "metadata": {},
   "outputs": [
    {
     "name": "stdout",
     "output_type": "stream",
     "text": [
      "7\n"
     ]
    }
   ],
   "source": [
    "#ex2\n",
    "a=5\n",
    "b=2\n",
    "x=(lambda a,b:a+b)\n",
    "print(x(a,b))"
   ]
  },
  {
   "cell_type": "code",
   "execution_count": 10,
   "id": "15424a76",
   "metadata": {},
   "outputs": [
    {
     "name": "stdout",
     "output_type": "stream",
     "text": [
      "4\n"
     ]
    }
   ],
   "source": [
    "x=lambda a,b:a-b\n",
    "print(x(8,4))"
   ]
  },
  {
   "cell_type": "code",
   "execution_count": null,
   "id": "9ccdf87f",
   "metadata": {},
   "outputs": [],
   "source": [
    "#ex4\n",
    "list=[vert-rouge-jaune-noir-blanc]"
   ]
  },
  {
   "cell_type": "code",
   "execution_count": 21,
   "id": "56a12818",
   "metadata": {},
   "outputs": [
    {
     "name": "stdout",
     "output_type": "stream",
     "text": [
      "donner la phrasetzha-adaml-mohaamed\n",
      "['tzha', 'adaml', 'mohaamed']\n",
      "['adaml', 'mohaamed', 'tzha']\n"
     ]
    }
   ],
   "source": [
    "\n",
    "    n=str(input(\"donner la phrase\"))\n",
    "    n1=n.split(\"-\")\n",
    "    print(n1)\n",
    "    n1.sort()\n",
    "    print (n1)\n"
   ]
  },
  {
   "cell_type": "code",
   "execution_count": 3,
   "id": "b134f485",
   "metadata": {},
   "outputs": [],
   "source": [
    "#ex5\n",
    "import math\n",
    "def calcule(C,D,H):\n",
    "    return math.sqrt((2*C*D)/H)"
   ]
  },
  {
   "cell_type": "code",
   "execution_count": 4,
   "id": "6bb9d8eb",
   "metadata": {},
   "outputs": [
    {
     "data": {
      "text/plain": [
       "5.744562646538029"
      ]
     },
     "execution_count": 4,
     "metadata": {},
     "output_type": "execute_result"
    }
   ],
   "source": [
    "calcule(18,22,24)"
   ]
  },
  {
   "cell_type": "code",
   "execution_count": null,
   "id": "a9728440",
   "metadata": {},
   "outputs": [],
   "source": []
  }
 ],
 "metadata": {
  "kernelspec": {
   "display_name": "Python 3",
   "language": "python",
   "name": "python3"
  },
  "language_info": {
   "codemirror_mode": {
    "name": "ipython",
    "version": 3
   },
   "file_extension": ".py",
   "mimetype": "text/x-python",
   "name": "python",
   "nbconvert_exporter": "python",
   "pygments_lexer": "ipython3",
   "version": "3.8.8"
  }
 },
 "nbformat": 4,
 "nbformat_minor": 5
}
